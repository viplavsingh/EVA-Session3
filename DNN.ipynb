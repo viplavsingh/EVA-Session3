{
  "nbformat": 4,
  "nbformat_minor": 0,
  "metadata": {
    "colab": {
      "name": "DNN.ipynb",
      "version": "0.3.2",
      "provenance": [],
      "collapsed_sections": []
    },
    "kernelspec": {
      "name": "python3",
      "display_name": "Python 3"
    },
    "accelerator": "GPU"
  },
  "cells": [
    {
      "cell_type": "markdown",
      "metadata": {
        "id": "aNyZv-Ec52ot",
        "colab_type": "text"
      },
      "source": [
        "# **Import Libraries and modules**"
      ]
    },
    {
      "cell_type": "code",
      "metadata": {
        "id": "3m3w1Cw49Zkt",
        "colab_type": "code",
        "colab": {}
      },
      "source": [
        "# https://keras.io/\n",
        "!pip install -q keras\n",
        "import keras"
      ],
      "execution_count": 0,
      "outputs": []
    },
    {
      "cell_type": "code",
      "metadata": {
        "id": "Eso6UHE080D4",
        "colab_type": "code",
        "colab": {}
      },
      "source": [
        "# import the libraries\n",
        "import numpy as np\n",
        "\n",
        "from keras.models import Sequential\n",
        "from keras.layers import Dense, Dropout, Activation, Flatten, Add\n",
        "from keras.layers import Convolution2D, MaxPooling2D, Conv2D\n",
        "from keras.utils import np_utils\n",
        "\n",
        "from keras.datasets import mnist"
      ],
      "execution_count": 0,
      "outputs": []
    },
    {
      "cell_type": "markdown",
      "metadata": {
        "id": "zByEi95J86RD",
        "colab_type": "text"
      },
      "source": [
        "### Load pre-shuffled MNIST data into train and test sets"
      ]
    },
    {
      "cell_type": "code",
      "metadata": {
        "id": "7eRM0QWN83PV",
        "colab_type": "code",
        "colab": {}
      },
      "source": [
        "# load the mnist dataset into training and testing dataset\n",
        "(X_train, y_train), (X_test, y_test) = mnist.load_data()"
      ],
      "execution_count": 0,
      "outputs": []
    },
    {
      "cell_type": "code",
      "metadata": {
        "id": "4a4Be72j8-ZC",
        "colab_type": "code",
        "outputId": "2c24bb91-0eb7-4bce-a5d7-64ad8b144338",
        "colab": {
          "base_uri": "https://localhost:8080/",
          "height": 303
        }
      },
      "source": [
        "# plot the image using matplotlib\n",
        "print (X_train.shape)\n",
        "from matplotlib import pyplot as plt\n",
        "%matplotlib inline\n",
        "plt.imshow(X_train[0])"
      ],
      "execution_count": 135,
      "outputs": [
        {
          "output_type": "stream",
          "text": [
            "(60000, 28, 28)\n"
          ],
          "name": "stdout"
        },
        {
          "output_type": "execute_result",
          "data": {
            "text/plain": [
              "<matplotlib.image.AxesImage at 0x7fd1aea14c18>"
            ]
          },
          "metadata": {
            "tags": []
          },
          "execution_count": 135
        },
        {
          "output_type": "display_data",
          "data": {
            "image/png": "[encoded data removed]",
            "text/plain": [
              "<Figure size 432x288 with 1 Axes>"
            ]
          },
          "metadata": {
            "tags": []
          }
        }
      ]
    },
    {
      "cell_type": "code",
      "metadata": {
        "id": "dkmprriw9AnZ",
        "colab_type": "code",
        "colab": {}
      },
      "source": [
        "# reshape the train and test dataset\n",
        "X_train = X_train.reshape(X_train.shape[0], 28, 28,1)\n",
        "X_test = X_test.reshape(X_test.shape[0], 28, 28,1)"
      ],
      "execution_count": 0,
      "outputs": []
    },
    {
      "cell_type": "code",
      "metadata": {
        "id": "X2m4YS4E9CRh",
        "colab_type": "code",
        "colab": {}
      },
      "source": [
        "# preprocess the train and test images by dividing the pixel values by 255.\n",
        "X_train = X_train.astype('float32')\n",
        "X_test = X_test.astype('float32')\n",
        "X_train /= 255\n",
        "X_test /= 255"
      ],
      "execution_count": 0,
      "outputs": []
    },
    {
      "cell_type": "code",
      "metadata": {
        "id": "0Mn0vAYD9DvB",
        "colab_type": "code",
        "outputId": "0720c7f8-27bb-474d-8e52-fd9cec6081d9",
        "colab": {
          "base_uri": "https://localhost:8080/",
          "height": 34
        }
      },
      "source": [
        "# get the first ten labels of training set\n",
        "y_train[:10]"
      ],
      "execution_count": 138,
      "outputs": [
        {
          "output_type": "execute_result",
          "data": {
            "text/plain": [
              "array([5, 0, 4, 1, 9, 2, 1, 3, 1, 4], dtype=uint8)"
            ]
          },
          "metadata": {
            "tags": []
          },
          "execution_count": 138
        }
      ]
    },
    {
      "cell_type": "code",
      "metadata": {
        "id": "ZG8JiXR39FHC",
        "colab_type": "code",
        "colab": {}
      },
      "source": [
        "# Convert 1-dimensional class arrays to 10-dimensional class matrices\n",
        "Y_train = np_utils.to_categorical(y_train, 10)\n",
        "Y_test = np_utils.to_categorical(y_test, 10)"
      ],
      "execution_count": 0,
      "outputs": []
    },
    {
      "cell_type": "code",
      "metadata": {
        "id": "fYlFRvKS9HMB",
        "colab_type": "code",
        "outputId": "17ae060c-95d4-4806-aa1b-1c0082eb1158",
        "colab": {
          "base_uri": "https://localhost:8080/",
          "height": 187
        }
      },
      "source": [
        "# get the first ten labels of training set again to verify if it is 10-dimensional class matrices\n",
        "Y_train[:10]\n"
      ],
      "execution_count": 140,
      "outputs": [
        {
          "output_type": "execute_result",
          "data": {
            "text/plain": [
              "array([[0., 0., 0., 0., 0., 1., 0., 0., 0., 0.],\n",
              "       [1., 0., 0., 0., 0., 0., 0., 0., 0., 0.],\n",
              "       [0., 0., 0., 0., 1., 0., 0., 0., 0., 0.],\n",
              "       [0., 1., 0., 0., 0., 0., 0., 0., 0., 0.],\n",
              "       [0., 0., 0., 0., 0., 0., 0., 0., 0., 1.],\n",
              "       [0., 0., 1., 0., 0., 0., 0., 0., 0., 0.],\n",
              "       [0., 1., 0., 0., 0., 0., 0., 0., 0., 0.],\n",
              "       [0., 0., 0., 1., 0., 0., 0., 0., 0., 0.],\n",
              "       [0., 1., 0., 0., 0., 0., 0., 0., 0., 0.],\n",
              "       [0., 0., 0., 0., 1., 0., 0., 0., 0., 0.]], dtype=float32)"
            ]
          },
          "metadata": {
            "tags": []
          },
          "execution_count": 140
        }
      ]
    },
    {
      "cell_type": "code",
      "metadata": {
        "id": "osKqT73Q9JJB",
        "colab_type": "code",
        "colab": {
          "base_uri": "https://localhost:8080/",
          "height": 153
        },
        "outputId": "8af5a6f8-f310-4190-c3ed-67f03970bb74"
      },
      "source": [
        "from keras.layers import Activation,BatchNormalization\n",
        "model = Sequential()\n",
        "\n",
        "# convolution layer with kernel size of (3x3x10)\n",
        "model.add(Convolution2D(10, 3, 3, activation='relu', input_shape=(28,28,1)))   \n",
        "#  batch normalization layer\n",
        "model.add(BatchNormalization())\n",
        "# convolution layer with kernel size of (3x3x18)\n",
        "model.add(Convolution2D(18, 3,3, activation='relu'))             \n",
        "# batch normalization layer\n",
        "model.add(BatchNormalization())\n",
        "\n",
        "# max pooling layer\n",
        "model.add(MaxPooling2D(pool_size=(2, 2)))                     \n",
        "# dropout layer \n",
        "model.add(Dropout(0.25))\n",
        "\n",
        "# convolution layer with kernel size of (3x3x30)\n",
        "model.add(Convolution2D(30, 3,3, activation='relu'))         \n",
        "model.add(BatchNormalization())\n",
        "# convolution layer with kernel size of (3x3x40)             \n",
        "model.add(Convolution2D(40, 3,3, activation='relu'))\n",
        "model.add(BatchNormalization())\n",
        "\n",
        "# max pooling layer\n",
        "model.add(MaxPooling2D(pool_size=(2, 2)))\n",
        "model.add(Dropout(0.25))\n",
        "\n",
        "# 1x1 convolution\n",
        "model.add(Convolution2D(10, 1, activation='relu'))\n",
        "model.add(BatchNormalization())\n",
        "\n",
        "model.add(Convolution2D(10, 3, activation='relu'))\n",
        "model.add(BatchNormalization())\n",
        "\n",
        "model.add(Convolution2D(10, 2))\n",
        "model.add(Flatten())\n",
        "# apply the softmax \n",
        "model.add(Activation('softmax'))\t"
      ],
      "execution_count": 149,
      "outputs": [
        {
          "output_type": "stream",
          "text": [
            "/usr/local/lib/python3.6/dist-packages/ipykernel_launcher.py:4: UserWarning: Update your `Conv2D` call to the Keras 2 API: `Conv2D(10, (3, 3), activation=\"relu\", input_shape=(28, 28, 1...)`\n",
            "  after removing the cwd from sys.path.\n",
            "/usr/local/lib/python3.6/dist-packages/ipykernel_launcher.py:6: UserWarning: Update your `Conv2D` call to the Keras 2 API: `Conv2D(18, (3, 3), activation=\"relu\")`\n",
            "  \n",
            "/usr/local/lib/python3.6/dist-packages/ipykernel_launcher.py:12: UserWarning: Update your `Conv2D` call to the Keras 2 API: `Conv2D(30, (3, 3), activation=\"relu\")`\n",
            "  if sys.path[0] == '':\n",
            "/usr/local/lib/python3.6/dist-packages/ipykernel_launcher.py:14: UserWarning: Update your `Conv2D` call to the Keras 2 API: `Conv2D(40, (3, 3), activation=\"relu\")`\n",
            "  \n"
          ],
          "name": "stderr"
        }
      ]
    },
    {
      "cell_type": "code",
      "metadata": {
        "id": "TzdAYg1k9K7Z",
        "colab_type": "code",
        "outputId": "f01ade3a-c4c6-41b3-9bba-b646166574ef",
        "colab": {
          "base_uri": "https://localhost:8080/",
          "height": 782
        }
      },
      "source": [
        "# print the model summary \n",
        "model.summary()"
      ],
      "execution_count": 150,
      "outputs": [
        {
          "output_type": "stream",
          "text": [
            "_________________________________________________________________\n",
            "Layer (type)                 Output Shape              Param #   \n",
            "=================================================================\n",
            "conv2d_202 (Conv2D)          (None, 26, 26, 10)        100       \n",
            "_________________________________________________________________\n",
            "batch_normalization_111 (Bat (None, 26, 26, 10)        40        \n",
            "_________________________________________________________________\n",
            "conv2d_203 (Conv2D)          (None, 24, 24, 18)        1638      \n",
            "_________________________________________________________________\n",
            "batch_normalization_112 (Bat (None, 24, 24, 18)        72        \n",
            "_________________________________________________________________\n",
            "max_pooling2d_31 (MaxPooling (None, 12, 12, 18)        0         \n",
            "_________________________________________________________________\n",
            "dropout_30 (Dropout)         (None, 12, 12, 18)        0         \n",
            "_________________________________________________________________\n",
            "conv2d_204 (Conv2D)          (None, 10, 10, 30)        4890      \n",
            "_________________________________________________________________\n",
            "batch_normalization_113 (Bat (None, 10, 10, 30)        120       \n",
            "_________________________________________________________________\n",
            "conv2d_205 (Conv2D)          (None, 8, 8, 40)          10840     \n",
            "_________________________________________________________________\n",
            "batch_normalization_114 (Bat (None, 8, 8, 40)          160       \n",
            "_________________________________________________________________\n",
            "max_pooling2d_32 (MaxPooling (None, 4, 4, 40)          0         \n",
            "_________________________________________________________________\n",
            "dropout_31 (Dropout)         (None, 4, 4, 40)          0         \n",
            "_________________________________________________________________\n",
            "conv2d_206 (Conv2D)          (None, 4, 4, 10)          410       \n",
            "_________________________________________________________________\n",
            "batch_normalization_115 (Bat (None, 4, 4, 10)          40        \n",
            "_________________________________________________________________\n",
            "conv2d_207 (Conv2D)          (None, 2, 2, 10)          910       \n",
            "_________________________________________________________________\n",
            "batch_normalization_116 (Bat (None, 2, 2, 10)          40        \n",
            "_________________________________________________________________\n",
            "conv2d_208 (Conv2D)          (None, 1, 1, 10)          410       \n",
            "_________________________________________________________________\n",
            "flatten_31 (Flatten)         (None, 10)                0         \n",
            "_________________________________________________________________\n",
            "activation_43 (Activation)   (None, 10)                0         \n",
            "=================================================================\n",
            "Total params: 19,670\n",
            "Trainable params: 19,434\n",
            "Non-trainable params: 236\n",
            "_________________________________________________________________\n"
          ],
          "name": "stdout"
        }
      ]
    },
    {
      "cell_type": "code",
      "metadata": {
        "id": "apHbIh_EDNOa",
        "colab_type": "code",
        "colab": {}
      },
      "source": [
        "INIT_LR = 5e-3\n",
        "# scheduler of learning rate (decay with epochs)\n",
        "def lr_scheduler(epoch):\n",
        "    return INIT_LR * 0.9 ** epoch\n"
      ],
      "execution_count": 0,
      "outputs": []
    },
    {
      "cell_type": "code",
      "metadata": {
        "id": "Zp6SuGrL9M3h",
        "colab_type": "code",
        "colab": {}
      },
      "source": [
        "# compile the model with categorical_crossentropy as loss and adam optimizer and metrics as accuracy\n",
        "model.compile(loss='categorical_crossentropy',\n",
        "             optimizer='adam',\n",
        "             metrics=['accuracy'])"
      ],
      "execution_count": 0,
      "outputs": []
    },
    {
      "cell_type": "code",
      "metadata": {
        "id": "4xWoKhPY9Of5",
        "colab_type": "code",
        "outputId": "488b980c-2aab-4b94-8d61-d12878a67c56",
        "colab": {
          "base_uri": "https://localhost:8080/",
          "height": 748
        }
      },
      "source": [
        "# train the model\n",
        "model.fit(X_train, Y_train, batch_size=32, nb_epoch=20, verbose=1,callbacks=[keras.callbacks.LearningRateScheduler(lr_scheduler),])"
      ],
      "execution_count": 153,
      "outputs": [
        {
          "output_type": "stream",
          "text": [
            "/usr/local/lib/python3.6/dist-packages/ipykernel_launcher.py:1: UserWarning: The `nb_epoch` argument in `fit` has been renamed `epochs`.\n",
            "  \"\"\"Entry point for launching an IPython kernel.\n"
          ],
          "name": "stderr"
        },
        {
          "output_type": "stream",
          "text": [
            "Epoch 1/20\n",
            "60000/60000 [==============================] - 29s 490us/step - loss: 0.1558 - acc: 0.9526\n",
            "Epoch 2/20\n",
            "60000/60000 [==============================] - 21s 342us/step - loss: 0.0679 - acc: 0.9788\n",
            "Epoch 3/20\n",
            "60000/60000 [==============================] - 21s 343us/step - loss: 0.0555 - acc: 0.9830\n",
            "Epoch 4/20\n",
            "60000/60000 [==============================] - 21s 344us/step - loss: 0.0491 - acc: 0.9848\n",
            "Epoch 5/20\n",
            "60000/60000 [==============================] - 22s 360us/step - loss: 0.0423 - acc: 0.9863\n",
            "Epoch 6/20\n",
            "60000/60000 [==============================] - 21s 342us/step - loss: 0.0363 - acc: 0.9887\n",
            "Epoch 7/20\n",
            "60000/60000 [==============================] - 20s 339us/step - loss: 0.0325 - acc: 0.9899\n",
            "Epoch 8/20\n",
            "60000/60000 [==============================] - 21s 352us/step - loss: 0.0305 - acc: 0.9908\n",
            "Epoch 9/20\n",
            "60000/60000 [==============================] - 21s 357us/step - loss: 0.0283 - acc: 0.9909\n",
            "Epoch 10/20\n",
            "60000/60000 [==============================] - 20s 341us/step - loss: 0.0257 - acc: 0.9921\n",
            "Epoch 11/20\n",
            "60000/60000 [==============================] - 20s 339us/step - loss: 0.0235 - acc: 0.9921\n",
            "Epoch 12/20\n",
            "60000/60000 [==============================] - 21s 348us/step - loss: 0.0216 - acc: 0.9928\n",
            "Epoch 13/20\n",
            "60000/60000 [==============================] - 22s 361us/step - loss: 0.0194 - acc: 0.9935\n",
            "Epoch 14/20\n",
            "60000/60000 [==============================] - 20s 339us/step - loss: 0.0200 - acc: 0.9932\n",
            "Epoch 15/20\n",
            "60000/60000 [==============================] - 20s 340us/step - loss: 0.0180 - acc: 0.9941\n",
            "Epoch 16/20\n",
            "60000/60000 [==============================] - 21s 354us/step - loss: 0.0180 - acc: 0.9940\n",
            "Epoch 17/20\n",
            "60000/60000 [==============================] - 21s 344us/step - loss: 0.0161 - acc: 0.9951\n",
            "Epoch 18/20\n",
            "60000/60000 [==============================] - 20s 338us/step - loss: 0.0157 - acc: 0.9946\n",
            "Epoch 19/20\n",
            "60000/60000 [==============================] - 20s 337us/step - loss: 0.0146 - acc: 0.9952\n",
            "Epoch 20/20\n",
            "60000/60000 [==============================] - 21s 356us/step - loss: 0.0133 - acc: 0.9954\n"
          ],
          "name": "stdout"
        },
        {
          "output_type": "execute_result",
          "data": {
            "text/plain": [
              "<keras.callbacks.History at 0x7fd1ad906ba8>"
            ]
          },
          "metadata": {
            "tags": []
          },
          "execution_count": 153
        }
      ]
    },
    {
      "cell_type": "code",
      "metadata": {
        "id": "AtsH-lLk-eLb",
        "colab_type": "code",
        "colab": {}
      },
      "source": [
        "# evaluate the model \n",
        "score = model.evaluate(X_test, Y_test, verbose=0)"
      ],
      "execution_count": 0,
      "outputs": []
    },
    {
      "cell_type": "code",
      "metadata": {
        "id": "mkX8JMv79q9r",
        "colab_type": "code",
        "outputId": "691498dd-4b09-4cd2-e4cf-f32d89e5c403",
        "colab": {
          "base_uri": "https://localhost:8080/",
          "height": 34
        }
      },
      "source": [
        "# print the validation loss and accuracy \n",
        "print(score)"
      ],
      "execution_count": 155,
      "outputs": [
        {
          "output_type": "stream",
          "text": [
            "[0.019009883882767645, 0.9948]\n"
          ],
          "name": "stdout"
        }
      ]
    },
    {
      "cell_type": "code",
      "metadata": {
        "id": "OCWoJkwE9suh",
        "colab_type": "code",
        "colab": {}
      },
      "source": [
        "# get the predicted label for test images\n",
        "y_pred = model.predict(X_test)"
      ],
      "execution_count": 0,
      "outputs": []
    },
    {
      "cell_type": "code",
      "metadata": {
        "id": "Ym7iCFBm9uBs",
        "colab_type": "code",
        "outputId": "c4411e5e-b8f0-45d8-bbea-a75766481280",
        "colab": {
          "base_uri": "https://localhost:8080/",
          "height": 340
        }
      },
      "source": [
        "# priint the first 9 predicted value and actual label\n",
        "print(y_pred[:9])\n",
        "print(y_test[:9])"
      ],
      "execution_count": 157,
      "outputs": [
        {
          "output_type": "stream",
          "text": [
            "[[5.7990716e-11 3.4489535e-08 1.4616522e-08 2.6304861e-07 5.0617122e-13\n",
            "  1.8249730e-09 4.8775914e-15 9.9999964e-01 8.0708086e-13 3.2975206e-10]\n",
            " [2.2810278e-09 4.6915218e-08 1.0000000e+00 9.2984713e-09 8.1859825e-14\n",
            "  1.4805351e-13 1.9187720e-08 1.4757466e-11 1.2243830e-10 2.3798168e-15]\n",
            " [1.9067392e-11 9.9999535e-01 1.9857143e-08 6.4714945e-09 6.9869550e-08\n",
            "  6.1330048e-09 1.5178339e-09 4.5819129e-06 2.6729563e-09 8.9259879e-09]\n",
            " [9.9999845e-01 2.2613625e-12 1.4823176e-07 2.2259606e-11 5.5751508e-11\n",
            "  1.6633672e-09 1.3886183e-06 5.3012192e-11 6.7393291e-09 9.2129554e-10]\n",
            " [1.0975557e-11 7.4497684e-09 1.0718401e-08 8.7793862e-11 9.9999928e-01\n",
            "  2.9263186e-11 2.5263433e-10 1.8116062e-09 1.3542204e-07 5.3197800e-07]\n",
            " [3.7546213e-11 9.9999499e-01 2.0207376e-07 1.9922946e-09 1.1996457e-08\n",
            "  1.4092444e-09 4.3777368e-09 4.7895765e-06 9.1358943e-10 3.1664309e-09]\n",
            " [3.2645210e-12 6.7337310e-06 8.2404430e-09 7.8236098e-12 9.9996030e-01\n",
            "  1.5497960e-09 1.3051822e-11 6.4256074e-07 6.2710419e-06 2.6050813e-05]\n",
            " [2.4606192e-10 1.2396345e-10 5.1994782e-08 3.8524166e-07 1.2159734e-04\n",
            "  8.9462397e-08 1.7610310e-12 9.9927270e-08 9.4974325e-07 9.9987686e-01]\n",
            " [6.0208007e-09 3.5089673e-10 4.3465898e-09 2.2322505e-08 5.0582960e-09\n",
            "  9.9853778e-01 6.9693715e-04 1.2587960e-11 7.6520938e-04 6.9411726e-08]]\n",
            "[7 2 1 0 4 1 4 9 5]\n"
          ],
          "name": "stdout"
        }
      ]
    },
    {
      "cell_type": "code",
      "metadata": {
        "id": "CT--y98_dr2T",
        "colab_type": "code",
        "colab": {}
      },
      "source": [
        "layer_dict = dict([(layer.name, layer) for layer in model.layers])"
      ],
      "execution_count": 0,
      "outputs": []
    },
    {
      "cell_type": "code",
      "metadata": {
        "id": "2GY4Upv4dsUR",
        "colab_type": "code",
        "outputId": "625036c2-702f-45c4-9a7e-73f8fc2ba9da",
        "colab": {
          "base_uri": "https://localhost:8080/",
          "height": 837
        }
      },
      "source": [
        "import numpy as np\n",
        "from matplotlib import pyplot as plt\n",
        "from keras import backend as K\n",
        "%matplotlib inline\n",
        "# util function to convert a tensor into a valid image\n",
        "def deprocess_image(x):\n",
        "    # normalize tensor: center on 0., ensure std is 0.1\n",
        "    x -= x.mean()\n",
        "    x /= (x.std() + 1e-5)\n",
        "    x *= 0.1\n",
        "\n",
        "    # clip to [0, 1]\n",
        "    x += 0.5\n",
        "    x = np.clip(x, 0, 1)\n",
        "\n",
        "    # convert to RGB array\n",
        "    x *= 255\n",
        "    #x = x.transpose((1, 2, 0))\n",
        "    x = np.clip(x, 0, 255).astype('uint8')\n",
        "    return x\n",
        "\n",
        "def vis_img_in_filter(img = np.array(X_train[2]).reshape((1, 28, 28, 1)).astype(np.float64), \n",
        "                      layer_name = 'conv2d_204'):\n",
        "    layer_output = layer_dict[layer_name].output\n",
        "    img_ascs = list()\n",
        "    for filter_index in range(layer_output.shape[3]):\n",
        "        # build a loss function that maximizes the activation\n",
        "        # of the nth filter of the layer considered\n",
        "        loss = K.mean(layer_output[:, :, :, filter_index])\n",
        "\n",
        "        # compute the gradient of the input picture wrt this loss\n",
        "        grads = K.gradients(loss, model.input)[0]\n",
        "\n",
        "        # normalization trick: we normalize the gradient\n",
        "        grads /= (K.sqrt(K.mean(K.square(grads))) + 1e-5)\n",
        "\n",
        "        # this function returns the loss and grads given the input picture\n",
        "        iterate = K.function([model.input], [loss, grads])\n",
        "\n",
        "        # step size for gradient ascent\n",
        "        step = 5.\n",
        "\n",
        "        img_asc = np.array(img)\n",
        "        # run gradient ascent for 20 steps\n",
        "        for i in range(20):\n",
        "            loss_value, grads_value = iterate([img_asc])\n",
        "            img_asc += grads_value * step\n",
        "\n",
        "        img_asc = img_asc[0]\n",
        "        img_ascs.append(deprocess_image(img_asc).reshape((28, 28)))\n",
        "        \n",
        "    if layer_output.shape[3] >= 35:\n",
        "        plot_x, plot_y = 6, 6\n",
        "    elif layer_output.shape[3] >= 23:\n",
        "        plot_x, plot_y = 4, 6\n",
        "    elif layer_output.shape[3] >= 11:\n",
        "        plot_x, plot_y = 2, 6\n",
        "    else:\n",
        "        plot_x, plot_y = 1, 2\n",
        "    fig, ax = plt.subplots(plot_x, plot_y, figsize = (12, 12))\n",
        "    ax[0, 0].imshow(img.reshape((28, 28)), cmap = 'gray')\n",
        "    ax[0, 0].set_title('Input image')\n",
        "    fig.suptitle('Input image and %s filters' % (layer_name,))\n",
        "    fig.tight_layout(pad = 0.3, rect = [0, 0, 0.9, 0.9])\n",
        "    for (x, y) in [(i, j) for i in range(plot_x) for j in range(plot_y)]:\n",
        "        if x == 0 and y == 0:\n",
        "            continue\n",
        "        ax[x, y].imshow(img_ascs[x * plot_y + y - 1], cmap = 'gray')\n",
        "        ax[x, y].set_title('filter %d' % (x * plot_y + y - 1))\n",
        "\n",
        "vis_img_in_filter()"
      ],
      "execution_count": 160,
      "outputs": [
        {
          "output_type": "display_data",
          "data": {
            "image/png": "[encoded data removed]",
            "text/plain": [
              "<Figure size 864x864 with 24 Axes>"
            ]
          },
          "metadata": {
            "tags": []
          }
        }
      ]
    },
    {
      "cell_type": "code",
      "metadata": {
        "id": "9tvptcn8dxvp",
        "colab_type": "code",
        "colab": {}
      },
      "source": [
        ""
      ],
      "execution_count": 0,
      "outputs": []
    }
  ]
}